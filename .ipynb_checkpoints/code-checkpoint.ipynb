{
 "cells": [
  {
   "cell_type": "code",
   "execution_count": 144,
   "metadata": {},
   "outputs": [],
   "source": [
    "import numpy as np\n",
    "import pandas as pd\n",
    "from scipy.stats import t\n",
    "import matplotlib.pyplot as plt \n",
    "pd.set_option('display.max_columns', 30) # set so can see all columns of the DataFrame"
   ]
  },
  {
   "cell_type": "code",
   "execution_count": 145,
   "metadata": {},
   "outputs": [],
   "source": [
    "# Import the data\n",
    "df = pd.read_csv(\"bank/bank.csv\", sep=\";\")"
   ]
  },
  {
   "cell_type": "code",
   "execution_count": 178,
   "metadata": {},
   "outputs": [
    {
     "data": {
      "text/html": [
       "<div>\n",
       "<style scoped>\n",
       "    .dataframe tbody tr th:only-of-type {\n",
       "        vertical-align: middle;\n",
       "    }\n",
       "\n",
       "    .dataframe tbody tr th {\n",
       "        vertical-align: top;\n",
       "    }\n",
       "\n",
       "    .dataframe thead th {\n",
       "        text-align: right;\n",
       "    }\n",
       "</style>\n",
       "<table border=\"1\" class=\"dataframe\">\n",
       "  <thead>\n",
       "    <tr style=\"text-align: right;\">\n",
       "      <th></th>\n",
       "      <th>age</th>\n",
       "      <th>job</th>\n",
       "      <th>marital</th>\n",
       "      <th>education</th>\n",
       "      <th>default</th>\n",
       "      <th>balance</th>\n",
       "      <th>housing</th>\n",
       "      <th>loan</th>\n",
       "      <th>contact</th>\n",
       "      <th>day</th>\n",
       "      <th>month</th>\n",
       "      <th>duration</th>\n",
       "      <th>campaign</th>\n",
       "      <th>pdays</th>\n",
       "      <th>previous</th>\n",
       "      <th>poutcome</th>\n",
       "      <th>y</th>\n",
       "    </tr>\n",
       "  </thead>\n",
       "  <tbody>\n",
       "    <tr>\n",
       "      <th>0</th>\n",
       "      <td>30</td>\n",
       "      <td>unemployed</td>\n",
       "      <td>married</td>\n",
       "      <td>primary</td>\n",
       "      <td>no</td>\n",
       "      <td>1787</td>\n",
       "      <td>no</td>\n",
       "      <td>no</td>\n",
       "      <td>cellular</td>\n",
       "      <td>19</td>\n",
       "      <td>oct</td>\n",
       "      <td>79</td>\n",
       "      <td>1</td>\n",
       "      <td>-1</td>\n",
       "      <td>0</td>\n",
       "      <td>unknown</td>\n",
       "      <td>no</td>\n",
       "    </tr>\n",
       "    <tr>\n",
       "      <th>1</th>\n",
       "      <td>33</td>\n",
       "      <td>services</td>\n",
       "      <td>married</td>\n",
       "      <td>secondary</td>\n",
       "      <td>no</td>\n",
       "      <td>4789</td>\n",
       "      <td>yes</td>\n",
       "      <td>yes</td>\n",
       "      <td>cellular</td>\n",
       "      <td>11</td>\n",
       "      <td>may</td>\n",
       "      <td>220</td>\n",
       "      <td>1</td>\n",
       "      <td>339</td>\n",
       "      <td>4</td>\n",
       "      <td>failure</td>\n",
       "      <td>no</td>\n",
       "    </tr>\n",
       "    <tr>\n",
       "      <th>2</th>\n",
       "      <td>35</td>\n",
       "      <td>management</td>\n",
       "      <td>single</td>\n",
       "      <td>tertiary</td>\n",
       "      <td>no</td>\n",
       "      <td>1350</td>\n",
       "      <td>yes</td>\n",
       "      <td>no</td>\n",
       "      <td>cellular</td>\n",
       "      <td>16</td>\n",
       "      <td>apr</td>\n",
       "      <td>185</td>\n",
       "      <td>1</td>\n",
       "      <td>330</td>\n",
       "      <td>1</td>\n",
       "      <td>failure</td>\n",
       "      <td>no</td>\n",
       "    </tr>\n",
       "    <tr>\n",
       "      <th>3</th>\n",
       "      <td>30</td>\n",
       "      <td>management</td>\n",
       "      <td>married</td>\n",
       "      <td>tertiary</td>\n",
       "      <td>no</td>\n",
       "      <td>1476</td>\n",
       "      <td>yes</td>\n",
       "      <td>yes</td>\n",
       "      <td>unknown</td>\n",
       "      <td>3</td>\n",
       "      <td>jun</td>\n",
       "      <td>199</td>\n",
       "      <td>4</td>\n",
       "      <td>-1</td>\n",
       "      <td>0</td>\n",
       "      <td>unknown</td>\n",
       "      <td>no</td>\n",
       "    </tr>\n",
       "    <tr>\n",
       "      <th>4</th>\n",
       "      <td>59</td>\n",
       "      <td>blue-collar</td>\n",
       "      <td>married</td>\n",
       "      <td>secondary</td>\n",
       "      <td>no</td>\n",
       "      <td>0</td>\n",
       "      <td>yes</td>\n",
       "      <td>no</td>\n",
       "      <td>unknown</td>\n",
       "      <td>5</td>\n",
       "      <td>may</td>\n",
       "      <td>226</td>\n",
       "      <td>1</td>\n",
       "      <td>-1</td>\n",
       "      <td>0</td>\n",
       "      <td>unknown</td>\n",
       "      <td>no</td>\n",
       "    </tr>\n",
       "  </tbody>\n",
       "</table>\n",
       "</div>"
      ],
      "text/plain": [
       "   age          job  marital  education default  balance housing loan  \\\n",
       "0   30   unemployed  married    primary      no     1787      no   no   \n",
       "1   33     services  married  secondary      no     4789     yes  yes   \n",
       "2   35   management   single   tertiary      no     1350     yes   no   \n",
       "3   30   management  married   tertiary      no     1476     yes  yes   \n",
       "4   59  blue-collar  married  secondary      no        0     yes   no   \n",
       "\n",
       "    contact  day month  duration  campaign  pdays  previous poutcome   y  \n",
       "0  cellular   19   oct        79         1     -1         0  unknown  no  \n",
       "1  cellular   11   may       220         1    339         4  failure  no  \n",
       "2  cellular   16   apr       185         1    330         1  failure  no  \n",
       "3   unknown    3   jun       199         4     -1         0  unknown  no  \n",
       "4   unknown    5   may       226         1     -1         0  unknown  no  "
      ]
     },
     "execution_count": 178,
     "metadata": {},
     "output_type": "execute_result"
    }
   ],
   "source": [
    "df.head()"
   ]
  },
  {
   "cell_type": "code",
   "execution_count": 147,
   "metadata": {},
   "outputs": [
    {
     "data": {
      "text/plain": [
       "4521"
      ]
     },
     "execution_count": 147,
     "metadata": {},
     "output_type": "execute_result"
    }
   ],
   "source": [
    "n = df.shape[0]\n",
    "n"
   ]
  },
  {
   "cell_type": "markdown",
   "metadata": {},
   "source": [
    "Hence there are 4521 entries in this data.\n",
    "# Non-numeric data\n",
    "The entries contain the following unique vales in each column. The month value is also omitted since we already know what that will yeild."
   ]
  },
  {
   "cell_type": "code",
   "execution_count": 148,
   "metadata": {},
   "outputs": [
    {
     "data": {
      "text/plain": [
       "array(['unemployed', 'services', 'management', 'blue-collar',\n",
       "       'self-employed', 'technician', 'entrepreneur', 'admin.', 'student',\n",
       "       'housemaid', 'retired', 'unknown'], dtype=object)"
      ]
     },
     "execution_count": 148,
     "metadata": {},
     "output_type": "execute_result"
    }
   ],
   "source": [
    "df.job.unique()"
   ]
  },
  {
   "cell_type": "code",
   "execution_count": 149,
   "metadata": {},
   "outputs": [
    {
     "data": {
      "text/plain": [
       "array(['married', 'single', 'divorced'], dtype=object)"
      ]
     },
     "execution_count": 149,
     "metadata": {},
     "output_type": "execute_result"
    }
   ],
   "source": [
    "df.marital.unique()"
   ]
  },
  {
   "cell_type": "code",
   "execution_count": 150,
   "metadata": {},
   "outputs": [
    {
     "data": {
      "text/plain": [
       "array(['primary', 'secondary', 'tertiary', 'unknown'], dtype=object)"
      ]
     },
     "execution_count": 150,
     "metadata": {},
     "output_type": "execute_result"
    }
   ],
   "source": [
    "df.education.unique()"
   ]
  },
  {
   "cell_type": "code",
   "execution_count": 151,
   "metadata": {},
   "outputs": [
    {
     "data": {
      "text/plain": [
       "array(['no', 'yes'], dtype=object)"
      ]
     },
     "execution_count": 151,
     "metadata": {},
     "output_type": "execute_result"
    }
   ],
   "source": [
    "df.default.unique()"
   ]
  },
  {
   "cell_type": "code",
   "execution_count": 152,
   "metadata": {},
   "outputs": [
    {
     "data": {
      "text/plain": [
       "array(['no', 'yes'], dtype=object)"
      ]
     },
     "execution_count": 152,
     "metadata": {},
     "output_type": "execute_result"
    }
   ],
   "source": [
    "df.housing.unique()"
   ]
  },
  {
   "cell_type": "code",
   "execution_count": 153,
   "metadata": {},
   "outputs": [
    {
     "data": {
      "text/plain": [
       "array(['no', 'yes'], dtype=object)"
      ]
     },
     "execution_count": 153,
     "metadata": {},
     "output_type": "execute_result"
    }
   ],
   "source": [
    "df.loan.unique()"
   ]
  },
  {
   "cell_type": "code",
   "execution_count": 154,
   "metadata": {},
   "outputs": [
    {
     "data": {
      "text/plain": [
       "array(['cellular', 'unknown', 'telephone'], dtype=object)"
      ]
     },
     "execution_count": 154,
     "metadata": {},
     "output_type": "execute_result"
    }
   ],
   "source": [
    "df.contact.unique()"
   ]
  },
  {
   "cell_type": "code",
   "execution_count": 155,
   "metadata": {},
   "outputs": [
    {
     "data": {
      "text/plain": [
       "array(['unknown', 'failure', 'other', 'success'], dtype=object)"
      ]
     },
     "execution_count": 155,
     "metadata": {},
     "output_type": "execute_result"
    }
   ],
   "source": [
    "df.poutcome.unique()"
   ]
  },
  {
   "cell_type": "code",
   "execution_count": 156,
   "metadata": {},
   "outputs": [
    {
     "data": {
      "text/plain": [
       "array(['no', 'yes'], dtype=object)"
      ]
     },
     "execution_count": 156,
     "metadata": {},
     "output_type": "execute_result"
    }
   ],
   "source": [
    "df.y.unique()"
   ]
  },
  {
   "cell_type": "code",
   "execution_count": 157,
   "metadata": {},
   "outputs": [
    {
     "data": {
      "text/plain": [
       "521"
      ]
     },
     "execution_count": 157,
     "metadata": {},
     "output_type": "execute_result"
    }
   ],
   "source": [
    "len(df[df['y']=='yes'])"
   ]
  },
  {
   "cell_type": "markdown",
   "metadata": {},
   "source": [
    "# Numeric data\n",
    "Now lets generate some summaries for the numerical data."
   ]
  },
  {
   "cell_type": "code",
   "execution_count": 158,
   "metadata": {
    "scrolled": true
   },
   "outputs": [
    {
     "data": {
      "text/html": [
       "<div>\n",
       "<style scoped>\n",
       "    .dataframe tbody tr th:only-of-type {\n",
       "        vertical-align: middle;\n",
       "    }\n",
       "\n",
       "    .dataframe tbody tr th {\n",
       "        vertical-align: top;\n",
       "    }\n",
       "\n",
       "    .dataframe thead th {\n",
       "        text-align: right;\n",
       "    }\n",
       "</style>\n",
       "<table border=\"1\" class=\"dataframe\">\n",
       "  <thead>\n",
       "    <tr style=\"text-align: right;\">\n",
       "      <th></th>\n",
       "      <th>age</th>\n",
       "      <th>balance</th>\n",
       "      <th>day</th>\n",
       "      <th>duration</th>\n",
       "      <th>campaign</th>\n",
       "      <th>pdays</th>\n",
       "      <th>previous</th>\n",
       "    </tr>\n",
       "  </thead>\n",
       "  <tbody>\n",
       "    <tr>\n",
       "      <th>count</th>\n",
       "      <td>4521.000000</td>\n",
       "      <td>4521.000000</td>\n",
       "      <td>4521.000000</td>\n",
       "      <td>4521.000000</td>\n",
       "      <td>4521.000000</td>\n",
       "      <td>4521.000000</td>\n",
       "      <td>4521.000000</td>\n",
       "    </tr>\n",
       "    <tr>\n",
       "      <th>mean</th>\n",
       "      <td>41.170095</td>\n",
       "      <td>1422.657819</td>\n",
       "      <td>15.915284</td>\n",
       "      <td>263.961292</td>\n",
       "      <td>2.793630</td>\n",
       "      <td>39.766645</td>\n",
       "      <td>0.542579</td>\n",
       "    </tr>\n",
       "    <tr>\n",
       "      <th>std</th>\n",
       "      <td>10.576211</td>\n",
       "      <td>3009.638142</td>\n",
       "      <td>8.247667</td>\n",
       "      <td>259.856633</td>\n",
       "      <td>3.109807</td>\n",
       "      <td>100.121124</td>\n",
       "      <td>1.693562</td>\n",
       "    </tr>\n",
       "    <tr>\n",
       "      <th>min</th>\n",
       "      <td>19.000000</td>\n",
       "      <td>-3313.000000</td>\n",
       "      <td>1.000000</td>\n",
       "      <td>4.000000</td>\n",
       "      <td>1.000000</td>\n",
       "      <td>-1.000000</td>\n",
       "      <td>0.000000</td>\n",
       "    </tr>\n",
       "    <tr>\n",
       "      <th>25%</th>\n",
       "      <td>33.000000</td>\n",
       "      <td>69.000000</td>\n",
       "      <td>9.000000</td>\n",
       "      <td>104.000000</td>\n",
       "      <td>1.000000</td>\n",
       "      <td>-1.000000</td>\n",
       "      <td>0.000000</td>\n",
       "    </tr>\n",
       "    <tr>\n",
       "      <th>50%</th>\n",
       "      <td>39.000000</td>\n",
       "      <td>444.000000</td>\n",
       "      <td>16.000000</td>\n",
       "      <td>185.000000</td>\n",
       "      <td>2.000000</td>\n",
       "      <td>-1.000000</td>\n",
       "      <td>0.000000</td>\n",
       "    </tr>\n",
       "    <tr>\n",
       "      <th>75%</th>\n",
       "      <td>49.000000</td>\n",
       "      <td>1480.000000</td>\n",
       "      <td>21.000000</td>\n",
       "      <td>329.000000</td>\n",
       "      <td>3.000000</td>\n",
       "      <td>-1.000000</td>\n",
       "      <td>0.000000</td>\n",
       "    </tr>\n",
       "    <tr>\n",
       "      <th>max</th>\n",
       "      <td>87.000000</td>\n",
       "      <td>71188.000000</td>\n",
       "      <td>31.000000</td>\n",
       "      <td>3025.000000</td>\n",
       "      <td>50.000000</td>\n",
       "      <td>871.000000</td>\n",
       "      <td>25.000000</td>\n",
       "    </tr>\n",
       "  </tbody>\n",
       "</table>\n",
       "</div>"
      ],
      "text/plain": [
       "               age       balance          day     duration     campaign  \\\n",
       "count  4521.000000   4521.000000  4521.000000  4521.000000  4521.000000   \n",
       "mean     41.170095   1422.657819    15.915284   263.961292     2.793630   \n",
       "std      10.576211   3009.638142     8.247667   259.856633     3.109807   \n",
       "min      19.000000  -3313.000000     1.000000     4.000000     1.000000   \n",
       "25%      33.000000     69.000000     9.000000   104.000000     1.000000   \n",
       "50%      39.000000    444.000000    16.000000   185.000000     2.000000   \n",
       "75%      49.000000   1480.000000    21.000000   329.000000     3.000000   \n",
       "max      87.000000  71188.000000    31.000000  3025.000000    50.000000   \n",
       "\n",
       "             pdays     previous  \n",
       "count  4521.000000  4521.000000  \n",
       "mean     39.766645     0.542579  \n",
       "std     100.121124     1.693562  \n",
       "min      -1.000000     0.000000  \n",
       "25%      -1.000000     0.000000  \n",
       "50%      -1.000000     0.000000  \n",
       "75%      -1.000000     0.000000  \n",
       "max     871.000000    25.000000  "
      ]
     },
     "execution_count": 158,
     "metadata": {},
     "output_type": "execute_result"
    }
   ],
   "source": [
    "df[[\"age\", \"balance\", \"day\", \"duration\", \"campaign\", \"pdays\", \"previous\"]].describe()"
   ]
  },
  {
   "cell_type": "markdown",
   "metadata": {},
   "source": [
    "Hence we can see that the mean age is 41.17, with the standard deviation of 10.57. The median is 39, which is less than the mean, indicating a slight left skew. The youngest person is 19 and the oldest is 87.\n",
    "\n",
    "The mean balance is 1422.65, with the standard deviation of 3009.64. The median is 444, which is significantly less than the mean, indicating a heavy left skew.\n",
    "\n",
    "The day represents the day of the month.\n",
    "\n",
    "The mean duration for last contact is 263.96, with the standard deviation of 3.11. The median is 185, which is less than the mean, indicating a left skew. The shortest duration was 4 and the longest was 3025 seconds.\n",
    "\n",
    "The mean number of contacts performed during this campaign for this client is 2.79, with the standard deviation of 259.86. The median is 2, which is less than the mean, indicating a left skew. The fewest was 1 and the most was 50.\n",
    "\n",
    "The mean days since previous contact is 39.77, with the standard deviation of 100.12. The median is -1, however this is due to many values being -1, indicating that the customer was not contacted previously. Hence we need to remove the -1 value to get a more accurate description.\n",
    "\n",
    "The mean number of contacts performed before this campaign for this client was 0.54, with a standard deviation of 1.69. The median is 0. This data also needs to be further analysed after removing the 0 value, since most of the customers were not contacted previously. \n"
   ]
  },
  {
   "cell_type": "markdown",
   "metadata": {},
   "source": [
    "### Days since previous contact (pdays)"
   ]
  },
  {
   "cell_type": "code",
   "execution_count": 159,
   "metadata": {},
   "outputs": [
    {
     "data": {
      "text/plain": [
       "count    816.000000\n",
       "mean     224.865196\n",
       "std      117.200417\n",
       "min        1.000000\n",
       "25%      136.000000\n",
       "50%      189.000000\n",
       "75%      330.000000\n",
       "max      871.000000\n",
       "Name: pdays, dtype: float64"
      ]
     },
     "execution_count": 159,
     "metadata": {},
     "output_type": "execute_result"
    }
   ],
   "source": [
    "pdays = df.pdays\n",
    "pdays = pdays[pdays != -1]\n",
    "pdays.describe()"
   ]
  },
  {
   "cell_type": "markdown",
   "metadata": {},
   "source": [
    "Hence we can see after removing the -1 values, that for those customers that were contacted before this campaign the mean for days since previous contact is 224.87. The standard deviation is 117.20. The median is 189, indicating a left skew for the data. The least days was 1 and the most was 871.  "
   ]
  },
  {
   "cell_type": "markdown",
   "metadata": {},
   "source": [
    "## Number of contacts performed before this campaign (previous)"
   ]
  },
  {
   "cell_type": "code",
   "execution_count": 160,
   "metadata": {},
   "outputs": [
    {
     "data": {
      "text/plain": [
       "count    816.000000\n",
       "mean       3.006127\n",
       "std        2.914101\n",
       "min        1.000000\n",
       "25%        1.000000\n",
       "50%        2.000000\n",
       "75%        4.000000\n",
       "max       25.000000\n",
       "Name: previous, dtype: float64"
      ]
     },
     "execution_count": 160,
     "metadata": {},
     "output_type": "execute_result"
    }
   ],
   "source": [
    "previous = df.previous\n",
    "previous = previous[previous != 0]\n",
    "previous.describe()"
   ]
  },
  {
   "cell_type": "markdown",
   "metadata": {},
   "source": [
    "Hence we can see after removing the 0 values, that for those customers that were contacted before this campaign the mean for number of contacts before the current campaign is 3.01. The standard deviation is 2.91. The median is 2, indicating a left skew for the data. The least was 1 and the most was 25.  "
   ]
  },
  {
   "cell_type": "markdown",
   "metadata": {},
   "source": [
    "## Successful vs unsuccessful campaigns"
   ]
  },
  {
   "cell_type": "code",
   "execution_count": 161,
   "metadata": {},
   "outputs": [],
   "source": [
    "successful = df.drop(df[df.y == 'no'].index)\n",
    "unsuccessful = df.drop(df[df.y == 'yes'].index)"
   ]
  },
  {
   "cell_type": "markdown",
   "metadata": {},
   "source": [
    "## Non-numeric data"
   ]
  },
  {
   "cell_type": "markdown",
   "metadata": {},
   "source": [
    "### Job"
   ]
  },
  {
   "cell_type": "code",
   "execution_count": 162,
   "metadata": {},
   "outputs": [
    {
     "data": {
      "image/png": "[encoded data removed]",
      "text/plain": [
       "<Figure size 1152x648 with 1 Axes>"
      ]
     },
     "metadata": {
      "needs_background": "light"
     },
     "output_type": "display_data"
    }
   ],
   "source": [
    "successful_job = successful.job\n",
    "unsuccessful_job = unsuccessful.job\n",
    "s_unique, s_counts = np.unique(successful_job, return_counts=True) \n",
    "u_unique, u_counts = np.unique(unsuccessful_job, return_counts=True) \n",
    "proportions = []\n",
    "\n",
    "for i in range(len(s_counts)):\n",
    "    if s_unique[i] != u_unique[i]:\n",
    "        print(\"Different order.\")\n",
    "    proportions.append(100*s_counts[i]/(u_counts[i]+s_counts[i]))\n",
    "\n",
    "\n",
    "fig = plt.figure(figsize = (16, 9))\n",
    " \n",
    "# creating the bar plot\n",
    "plt.bar(s_unique, proportions, color ='maroon',\n",
    "        width = 0.8)\n",
    " \n",
    "plt.xlabel(\"Jobs\")\n",
    "plt.ylabel(\"Percent of succesful campaigns\")\n",
    "plt.title(\"Proportion of successful campaigns\")\n",
    "plt.show()"
   ]
  },
  {
   "cell_type": "markdown",
   "metadata": {},
   "source": [
    "### Marital Status"
   ]
  },
  {
   "cell_type": "code",
   "execution_count": 163,
   "metadata": {},
   "outputs": [
    {
     "data": {
      "image/png": "[encoded data removed]",
      "text/plain": [
       "<Figure size 576x360 with 1 Axes>"
      ]
     },
     "metadata": {
      "needs_background": "light"
     },
     "output_type": "display_data"
    }
   ],
   "source": [
    "s_married = successful.marital\n",
    "u_married = unsuccessful.marital\n",
    "s_unique, s_counts = np.unique(s_married, return_counts=True) \n",
    "u_unique, u_counts = np.unique(u_married, return_counts=True) \n",
    "proportions = []\n",
    "\n",
    "for i in range(len(s_counts)):\n",
    "    if s_unique[i] != u_unique[i]:\n",
    "        print(\"Different order.\")\n",
    "    proportions.append(100*s_counts[i]/(u_counts[i]+s_counts[i]))\n",
    "\n",
    "\n",
    "fig = plt.figure(figsize = (8, 5))\n",
    " \n",
    "# creating the bar plot\n",
    "plt.bar(s_unique, proportions, color ='maroon',\n",
    "        width = 0.8)\n",
    " \n",
    "plt.xlabel(\"Marital Status\")\n",
    "plt.ylabel(\"Percent of succesful campaigns\")\n",
    "plt.title(\"Proportion of successful campaigns\")\n",
    "plt.show()"
   ]
  },
  {
   "cell_type": "markdown",
   "metadata": {},
   "source": [
    "### Education"
   ]
  },
  {
   "cell_type": "code",
   "execution_count": 164,
   "metadata": {},
   "outputs": [
    {
     "data": {
      "image/png": "[encoded data removed]",
      "text/plain": [
       "<Figure size 864x648 with 1 Axes>"
      ]
     },
     "metadata": {
      "needs_background": "light"
     },
     "output_type": "display_data"
    }
   ],
   "source": [
    "s_edu = successful.education\n",
    "u_edu = unsuccessful.education\n",
    "s_unique, s_counts = np.unique(s_edu, return_counts=True) \n",
    "u_unique, u_counts = np.unique(u_edu, return_counts=True) \n",
    "proportions = []\n",
    "\n",
    "for i in range(len(s_counts)):\n",
    "    if s_unique[i] != u_unique[i]:\n",
    "        print(\"Different order.\")\n",
    "    proportions.append(100*s_counts[i]/(u_counts[i]+s_counts[i]))\n",
    "\n",
    "\n",
    "fig = plt.figure(figsize = (12, 9))\n",
    " \n",
    "# creating the bar plot\n",
    "plt.bar(s_unique, proportions, color ='maroon',\n",
    "        width = 0.8)\n",
    " \n",
    "plt.xlabel(\"Education Level\")\n",
    "plt.ylabel(\"Percent of succesful campaigns\")\n",
    "plt.title(\"Proportion of successful campaigns\")\n",
    "plt.show()"
   ]
  },
  {
   "cell_type": "markdown",
   "metadata": {},
   "source": [
    "### default"
   ]
  },
  {
   "cell_type": "code",
   "execution_count": 165,
   "metadata": {},
   "outputs": [
    {
     "data": {
      "image/png": "[encoded data removed]",
      "text/plain": [
       "<Figure size 576x432 with 1 Axes>"
      ]
     },
     "metadata": {
      "needs_background": "light"
     },
     "output_type": "display_data"
    }
   ],
   "source": [
    "s_default = successful.default\n",
    "u_default = unsuccessful.default\n",
    "s_unique, s_counts = np.unique(s_default, return_counts=True) \n",
    "u_unique, u_counts = np.unique(u_default, return_counts=True) \n",
    "proportions = []\n",
    "\n",
    "for i in range(len(s_counts)):\n",
    "    if s_unique[i] != u_unique[i]:\n",
    "        print(\"Different order.\")\n",
    "    proportions.append(100*s_counts[i]/(u_counts[i]+s_counts[i]))\n",
    "\n",
    "\n",
    "fig = plt.figure(figsize = (8, 6))\n",
    " \n",
    "# creating the bar plot\n",
    "plt.bar(s_unique, proportions, color ='maroon',\n",
    "        width = 0.8)\n",
    " \n",
    "plt.xlabel(\"Whether or not they defaulted\")\n",
    "plt.ylabel(\"Percent of succesful campaigns\")\n",
    "plt.title(\"Proportion of successful campaigns\")\n",
    "plt.show()"
   ]
  },
  {
   "cell_type": "markdown",
   "metadata": {},
   "source": [
    "### Housing"
   ]
  },
  {
   "cell_type": "code",
   "execution_count": 166,
   "metadata": {},
   "outputs": [
    {
     "data": {
      "image/png": "[encoded data removed]",
      "text/plain": [
       "<Figure size 576x432 with 1 Axes>"
      ]
     },
     "metadata": {
      "needs_background": "light"
     },
     "output_type": "display_data"
    }
   ],
   "source": [
    "s_housing = successful.housing\n",
    "u_housing = unsuccessful.housing\n",
    "s_unique, s_counts = np.unique(s_housing, return_counts=True) \n",
    "u_unique, u_counts = np.unique(u_housing, return_counts=True) \n",
    "proportions = []\n",
    "\n",
    "for i in range(len(s_counts)):\n",
    "    if s_unique[i] != u_unique[i]:\n",
    "        print(\"Different order.\")\n",
    "    proportions.append(100*s_counts[i]/(u_counts[i]+s_counts[i]))\n",
    "\n",
    "\n",
    "fig = plt.figure(figsize = (8,6))\n",
    " \n",
    "# creating the bar plot\n",
    "plt.bar(s_unique, proportions, color ='maroon',\n",
    "        width = 0.8)\n",
    " \n",
    "plt.xlabel(\"Whether or not they took a housing loan\")\n",
    "plt.ylabel(\"Percent of succesful campaigns\")\n",
    "plt.title(\"Proportion of successful campaigns\")\n",
    "plt.show()"
   ]
  },
  {
   "cell_type": "markdown",
   "metadata": {},
   "source": [
    "### Loan"
   ]
  },
  {
   "cell_type": "code",
   "execution_count": 167,
   "metadata": {},
   "outputs": [
    {
     "data": {
      "image/png": "[encoded data removed]",
      "text/plain": [
       "<Figure size 576x432 with 1 Axes>"
      ]
     },
     "metadata": {
      "needs_background": "light"
     },
     "output_type": "display_data"
    }
   ],
   "source": [
    "s_loan = successful.loan\n",
    "u_loan = unsuccessful.loan\n",
    "s_unique, s_counts = np.unique(s_housing, return_counts=True) \n",
    "u_unique, u_counts = np.unique(u_housing, return_counts=True) \n",
    "proportions = []\n",
    "\n",
    "for i in range(len(s_counts)):\n",
    "    if s_unique[i] != u_unique[i]:\n",
    "        print(\"Different order.\")\n",
    "    proportions.append(100*s_counts[i]/(u_counts[i]+s_counts[i]))\n",
    "\n",
    "\n",
    "fig = plt.figure(figsize = (8,6))\n",
    " \n",
    "# creating the bar plot\n",
    "plt.bar(s_unique, proportions, color ='maroon',\n",
    "        width = 0.8)\n",
    " \n",
    "plt.xlabel(\"Whether or not they took a personal loan\")\n",
    "plt.ylabel(\"Percent of succesful campaigns\")\n",
    "plt.title(\"Proportion of successful campaigns\")\n",
    "plt.show()"
   ]
  },
  {
   "cell_type": "markdown",
   "metadata": {},
   "source": [
    "### Contact"
   ]
  },
  {
   "cell_type": "code",
   "execution_count": 168,
   "metadata": {},
   "outputs": [
    {
     "data": {
      "image/png": "[encoded data removed]",
      "text/plain": [
       "<Figure size 576x432 with 1 Axes>"
      ]
     },
     "metadata": {
      "needs_background": "light"
     },
     "output_type": "display_data"
    }
   ],
   "source": [
    "s_contact = successful.contact\n",
    "u_contact = unsuccessful.contact\n",
    "s_unique, s_counts = np.unique(s_contact, return_counts=True) \n",
    "u_unique, u_counts = np.unique(u_contact, return_counts=True) \n",
    "proportions = []\n",
    "\n",
    "for i in range(len(s_counts)):\n",
    "    if s_unique[i] != u_unique[i]:\n",
    "        print(\"Different order.\")\n",
    "    proportions.append(100*s_counts[i]/(u_counts[i]+s_counts[i]))\n",
    "\n",
    "\n",
    "fig = plt.figure(figsize = (8,6))\n",
    " \n",
    "# creating the bar plot\n",
    "plt.bar(s_unique, proportions, color ='maroon',\n",
    "        width = 0.8)\n",
    " \n",
    "plt.xlabel(\"Contact communication type\")\n",
    "plt.ylabel(\"Percent of succesful campaigns\")\n",
    "plt.title(\"Proportion of successful campaigns\")\n",
    "plt.show()"
   ]
  },
  {
   "cell_type": "markdown",
   "metadata": {},
   "source": [
    "### Previous campaign outcome (poutcome)"
   ]
  },
  {
   "cell_type": "code",
   "execution_count": 169,
   "metadata": {},
   "outputs": [
    {
     "data": {
      "image/png": "[encoded data removed]",
      "text/plain": [
       "<Figure size 576x432 with 1 Axes>"
      ]
     },
     "metadata": {
      "needs_background": "light"
     },
     "output_type": "display_data"
    }
   ],
   "source": [
    "s_pout = successful.poutcome\n",
    "u_pout = unsuccessful.poutcome\n",
    "s_unique, s_counts = np.unique(s_pout, return_counts=True) \n",
    "u_unique, u_counts = np.unique(u_pout, return_counts=True) \n",
    "proportions = []\n",
    "\n",
    "for i in range(len(s_counts)):\n",
    "    if s_unique[i] != u_unique[i]:\n",
    "        print(\"Different order.\")\n",
    "    proportions.append(100*s_counts[i]/(u_counts[i]+s_counts[i]))\n",
    "\n",
    "\n",
    "fig = plt.figure(figsize = (8,6))\n",
    " \n",
    "# creating the bar plot\n",
    "plt.bar(s_unique, proportions, color ='maroon',\n",
    "        width = 0.8)\n",
    " \n",
    "plt.xlabel(\"Whether previous campaign was successful\")\n",
    "plt.ylabel(\"Percent of succesful campaigns\")\n",
    "plt.title(\"Proportion of successful campaigns\")\n",
    "plt.show()"
   ]
  },
  {
   "cell_type": "markdown",
   "metadata": {},
   "source": [
    "## Numeric Data"
   ]
  },
  {
   "cell_type": "markdown",
   "metadata": {},
   "source": [
    "For this data we need to plot histograms with appropriate buckets"
   ]
  },
  {
   "cell_type": "markdown",
   "metadata": {},
   "source": [
    "### Age"
   ]
  },
  {
   "cell_type": "code",
   "execution_count": 171,
   "metadata": {},
   "outputs": [
    {
     "data": {
      "image/png": "[encoded data removed]",
      "text/plain": [
       "<Figure size 576x432 with 1 Axes>"
      ]
     },
     "metadata": {
      "needs_background": "light"
     },
     "output_type": "display_data"
    }
   ],
   "source": [
    "counts = np.array([(0,0),(0,0),(0,0),(0,0),(0,0),(0,0)])\n",
    "proportions = [0,0,0,0,0,0]\n",
    "# proportions are 18-29, 30-39, 40-49, 50-59, 60-69, 70+ \n",
    "labels = ['18-29', '30-39', '40-49', '50-59', '60-69', '70+']\n",
    "for i, row in df.iterrows():\n",
    "    age = row.age\n",
    "    success = 1 if row.y == 'yes' else 0\n",
    "    if 18<=age<=29:\n",
    "        counts[0][success] += 1\n",
    "    if 30<=age<=39:\n",
    "        counts[1][success] += 1\n",
    "    if 40<=age<=49:\n",
    "        counts[2][success] += 1\n",
    "    if 50<=age<=59:\n",
    "        counts[3][success] += 1\n",
    "    if 60<=age<=69:\n",
    "        counts[4][success] += 1\n",
    "    if age>=70:\n",
    "        counts[5][success] += 1\n",
    "         \n",
    "\n",
    "for i in range(len(counts)):\n",
    "    proportions[i] = 100 * counts[i][1]/(counts[i][0]+counts[i][1])\n",
    "        \n",
    "fig = plt.figure(figsize = (8,6))\n",
    " \n",
    "# creating the bar plot\n",
    "plt.bar(labels, proportions, color ='maroon', width = 0.8)\n",
    " \n",
    "plt.xlabel(\"Age (years)\")\n",
    "plt.ylabel(\"Percent of succesful campaigns\")\n",
    "plt.title(\"Proportion of successful campaigns\")\n",
    "plt.show()"
   ]
  },
  {
   "cell_type": "markdown",
   "metadata": {},
   "source": [
    "### Balance"
   ]
  },
  {
   "cell_type": "code",
   "execution_count": 172,
   "metadata": {},
   "outputs": [
    {
     "data": {
      "image/png": "[encoded data removed]",
      "text/plain": [
       "<Figure size 1152x432 with 1 Axes>"
      ]
     },
     "metadata": {
      "needs_background": "light"
     },
     "output_type": "display_data"
    }
   ],
   "source": [
    "counts = np.array([(0,0),(0,0),(0,0),(0,0),(0,0),(0,0),(0,0)])\n",
    "proportions = [0,0,0,0,0,0,0]\n",
    "# proportions are \n",
    "\"\"\"\n",
    "-inf to -2000, \n",
    "-2000 to -1001, \n",
    "-1000 to -1, \n",
    "0 to 999 ,\n",
    "999 to 1999 , \n",
    "2000 to 2999, \n",
    "3000+ \n",
    "\"\"\"\n",
    "labels = ['Less than -2001',  '-2000 to -1001', '-1000 to -1', '0 to 999', '999 to 1999', '2000 to 2999', '3000+']\n",
    "for i, row in df.iterrows():\n",
    "    balance = row.balance\n",
    "    success = 1 if row.y == 'yes' else 0\n",
    "    if -99999<=balance<=-2001:\n",
    "        counts[0][success] += 1\n",
    "    if -2000<=balance<=-1001:\n",
    "        counts[1][success] += 1\n",
    "    if -1000<=balance<=-1:\n",
    "        counts[2][success] += 1\n",
    "    if 0<=balance<=999:\n",
    "        counts[3][success] += 1\n",
    "    if 1000<=balance<=1999:\n",
    "        counts[4][success] += 1\n",
    "    if 2000<=balance<=2999:\n",
    "        counts[5][success] += 1\n",
    "    if balance>=3000:\n",
    "        counts[6][success] += 1\n",
    "         \n",
    "\n",
    "for i in range(len(counts)):\n",
    "    proportions[i] = 100 * counts[i][1]/(counts[i][0]+counts[i][1])\n",
    "        \n",
    "fig = plt.figure(figsize = (16,6))\n",
    " \n",
    "# creating the bar plot\n",
    "plt.bar(labels, proportions, color ='maroon', width = 0.8)\n",
    " \n",
    "plt.xlabel(\"Bank balance\")\n",
    "plt.ylabel(\"Percent of succesful campaigns\")\n",
    "plt.title(\"Proportion of successful campaigns\")\n",
    "plt.show()"
   ]
  },
  {
   "cell_type": "markdown",
   "metadata": {},
   "source": [
    "### duration"
   ]
  },
  {
   "cell_type": "code",
   "execution_count": 173,
   "metadata": {},
   "outputs": [
    {
     "data": {
      "image/png": "[encoded data removed]",
      "text/plain": [
       "<Figure size 1152x432 with 1 Axes>"
      ]
     },
     "metadata": {
      "needs_background": "light"
     },
     "output_type": "display_data"
    }
   ],
   "source": [
    "counts = np.array([(0,0),(0,0),(0,0),(0,0),(0,0),(0,0),(0,0),(0,0),(0,0)])\n",
    "proportions = [0,0,0,0,0,0,0,0,0]\n",
    "# proportions are \n",
    "\"\"\"\n",
    "1 to 49, \n",
    "50 to 99, \n",
    "100 to 149, \n",
    "150 to 199 ,\n",
    "200 to 249 , \n",
    "250 to 299, \n",
    "300+ \n",
    "\"\"\"\n",
    "labels = ['1 to 49', '50 to 99', '100 to 149', '150 to 199' ,'200 to 249' ,'250 to 299', '300 to 349', '350 to 399', '400+']\n",
    "for i, row in df.iterrows():\n",
    "    duration = row.duration\n",
    "    success = 1 if row.y == 'yes' else 0\n",
    "    if 1<=duration<=49:\n",
    "        counts[0][success] += 1\n",
    "    if 50<=duration<=99:\n",
    "        counts[1][success] += 1\n",
    "    if 100<=duration<=149:\n",
    "        counts[2][success] += 1\n",
    "    if 150<=duration<=199:\n",
    "        counts[3][success] += 1\n",
    "    if 200<=duration<=249:\n",
    "        counts[4][success] += 1\n",
    "    if 250<=duration<=299:\n",
    "        counts[5][success] += 1\n",
    "    if 300<=duration<=349:\n",
    "        counts[6][success] += 1\n",
    "    if 350<=duration<=399:\n",
    "        counts[7][success] += 1\n",
    "    if duration>=400:\n",
    "        counts[8][success] += 1\n",
    "    \n",
    "\n",
    "for i in range(len(counts)):\n",
    "    proportions[i] = 100 * counts[i][1]/(counts[i][0]+counts[i][1])\n",
    "        \n",
    "fig = plt.figure(figsize = (16,6))\n",
    " \n",
    "# creating the bar plot\n",
    "plt.bar(labels, proportions, color ='maroon', width = 0.8)\n",
    " \n",
    "plt.xlabel(\"Duration of last contact (seconds)\")\n",
    "plt.ylabel(\"Percent of succesful campaigns\")\n",
    "plt.title(\"Proportion of successful campaigns\")\n",
    "plt.show()"
   ]
  },
  {
   "cell_type": "markdown",
   "metadata": {},
   "source": [
    "### campaign"
   ]
  },
  {
   "cell_type": "code",
   "execution_count": 175,
   "metadata": {},
   "outputs": [
    {
     "data": {
      "image/png": "[encoded data removed]",
      "text/plain": [
       "<Figure size 576x432 with 1 Axes>"
      ]
     },
     "metadata": {
      "needs_background": "light"
     },
     "output_type": "display_data"
    }
   ],
   "source": [
    "counts = np.array([(0,0),(0,0),(0,0),(0,0)])\n",
    "proportions = [0,0,0,0]\n",
    "# proportions are 1, 2, 3, 3+\n",
    "labels = ['1', '2', '3', '4 or more']\n",
    "for i, row in df.iterrows():\n",
    "    campaign = row.campaign\n",
    "    success = 1 if row.y == 'yes' else 0\n",
    "    if campaign==1:\n",
    "        counts[0][success] += 1\n",
    "    if campaign==2:\n",
    "        counts[1][success] += 1\n",
    "    if campaign==3:\n",
    "        counts[2][success] += 1\n",
    "    if campaign>3:\n",
    "        counts[3][success] += 1\n",
    "\n",
    "for i in range(len(counts)):\n",
    "    proportions[i] = 100 * counts[i][1]/(counts[i][0]+counts[i][1])\n",
    "        \n",
    "fig = plt.figure(figsize = (8,6))\n",
    " \n",
    "# creating the bar plot\n",
    "plt.bar(labels, proportions, color ='maroon', width = 0.8)\n",
    " \n",
    "plt.xlabel(\"Number of contacts performed in current campaign\")\n",
    "plt.ylabel(\"Percent of succesful campaigns\")\n",
    "plt.title(\"Proportion of successful campaigns\")\n",
    "plt.show()"
   ]
  },
  {
   "cell_type": "markdown",
   "metadata": {},
   "source": [
    "### pdays"
   ]
  },
  {
   "cell_type": "code",
   "execution_count": 179,
   "metadata": {},
   "outputs": [
    {
     "data": {
      "image/png": "[encoded data removed]",
      "text/plain": [
       "<Figure size 576x432 with 1 Axes>"
      ]
     },
     "metadata": {
      "needs_background": "light"
     },
     "output_type": "display_data"
    }
   ],
   "source": [
    "counts = np.array([(0,0),(0,0),(0,0),(0,0),(0,0),(0,0)])\n",
    "proportions = [0,0,0,0,0,0]\n",
    "# proportions are not contacted(-1), 0 to 100, 100 to 200, 200 to 300, 300 to 400, 400+ \n",
    "labels = ['Not contacted', '0 to 99', '100 to 199', '200 to 299', '300 to 399', '400+']\n",
    "for i, row in df.iterrows():\n",
    "    pdays = row.pdays\n",
    "    success = 1 if row.y == 'yes' else 0\n",
    "    if pdays==-1:\n",
    "        counts[0][success] += 1\n",
    "    if 0<=pdays<=99:\n",
    "        counts[1][success] += 1\n",
    "    if 100<=pdays<=199:\n",
    "        counts[2][success] += 1\n",
    "    if 200<=pdays<=299:\n",
    "        counts[3][success] += 1\n",
    "    if 300<=pdays<=399:\n",
    "        counts[4][success] += 1\n",
    "    if pdays>=400:\n",
    "        counts[5][success] += 1\n",
    "         \n",
    "\n",
    "for i in range(len(counts)):\n",
    "    proportions[i] = 100 * counts[i][1]/(counts[i][0]+counts[i][1])\n",
    "        \n",
    "fig = plt.figure(figsize = (8,6))\n",
    " \n",
    "# creating the bar plot\n",
    "plt.bar(labels, proportions, color ='maroon', width = 0.8)\n",
    " \n",
    "plt.xlabel(\"Days since contact in previous campaign\")\n",
    "plt.ylabel(\"Percent of succesful campaigns\")\n",
    "plt.title(\"Proportion of successful campaigns\")\n",
    "plt.show()"
   ]
  },
  {
   "cell_type": "markdown",
   "metadata": {},
   "source": [
    "### previous"
   ]
  },
  {
   "cell_type": "code",
   "execution_count": 180,
   "metadata": {},
   "outputs": [
    {
     "data": {
      "image/png": "[encoded data removed]",
      "text/plain": [
       "<Figure size 1152x432 with 1 Axes>"
      ]
     },
     "metadata": {
      "needs_background": "light"
     },
     "output_type": "display_data"
    }
   ],
   "source": [
    "counts = np.array([(0,0),(0,0),(0,0),(0,0),(0,0)])\n",
    "proportions = [0,0,0,0,0]\n",
    "# proportions are 0, 1, 2, 3, 4+\n",
    "labels = ['Not contacted previously','1', '2', '3', '4 or more']\n",
    "for i, row in df.iterrows():\n",
    "    previous = row.previous\n",
    "    success = 1 if row.y == 'yes' else 0\n",
    "    if previous ==0:\n",
    "        counts[0][success] += 1\n",
    "    if previous==1:\n",
    "        counts[1][success] += 1\n",
    "    if previous==2:\n",
    "        counts[2][success] += 1\n",
    "    if previous==3:\n",
    "        counts[3][success] += 1\n",
    "    if previous>3:\n",
    "        counts[4][success] += 1\n",
    "\n",
    "for i in range(len(counts)):\n",
    "    proportions[i] = 100 * counts[i][1]/(counts[i][0]+counts[i][1])\n",
    "        \n",
    "fig = plt.figure(figsize = (16,6))\n",
    " \n",
    "# creating the bar plot\n",
    "plt.bar(labels, proportions, color ='maroon', width = 0.8)\n",
    " \n",
    "plt.xlabel(\"Number of contacts performed in current campaign\")\n",
    "plt.ylabel(\"Percent of succesful campaigns\")\n",
    "plt.title(\"Proportion of successful campaigns\")\n",
    "plt.show()"
   ]
  },
  {
   "cell_type": "markdown",
   "metadata": {},
   "source": [
    "## TODO\n",
    "1. Use confidence intervals somehow"
   ]
  },
  {
   "cell_type": "code",
   "execution_count": null,
   "metadata": {},
   "outputs": [],
   "source": []
  }
 ],
 "metadata": {
  "kernelspec": {
   "display_name": "Python 3",
   "language": "python",
   "name": "python3"
  },
  "language_info": {
   "codemirror_mode": {
    "name": "ipython",
    "version": 3
   },
   "file_extension": ".py",
   "mimetype": "text/x-python",
   "name": "python",
   "nbconvert_exporter": "python",
   "pygments_lexer": "ipython3",
   "version": "3.7.6"
  }
 },
 "nbformat": 4,
 "nbformat_minor": 4
}
